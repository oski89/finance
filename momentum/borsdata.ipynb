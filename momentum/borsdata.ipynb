{
 "cells": [
  {
   "cell_type": "code",
   "execution_count": null,
   "metadata": {},
   "outputs": [],
   "source": [
    "# Inputs\n",
    "\n",
    "INPUT_FILE = 'datas/Borsdata_2021-01-04.xlsx'\n",
    "\n",
    "MONEY_TO_USE = 130000\n",
    "NO_COMPS_TO_BUY = 25"
   ]
  },
  {
   "cell_type": "code",
   "execution_count": null,
   "metadata": {},
   "outputs": [],
   "source": [
    "# Import pandas and ignore warnings\n",
    "\n",
    "import pandas as pd\n",
    "pd.set_option('mode.chained_assignment', None)"
   ]
  },
  {
   "cell_type": "code",
   "execution_count": null,
   "metadata": {},
   "outputs": [],
   "source": [
    "# Read Excel file and sort by company name\n",
    "\n",
    "df = pd.read_excel(INPUT_FILE,header=[0,1],index_col=0)\n",
    "df.sort_index(inplace=True)"
   ]
  },
  {
   "cell_type": "code",
   "execution_count": null,
   "metadata": {},
   "outputs": [],
   "source": [
    "# Apply filter: enterprise value > 1000 MSEK with positive momentums and trends\n",
    "\n",
    "ev1000 = df['Börsvärde']['Senaste'] > 1000\n",
    "utv3 = df['Kursutveck.']['Utveck.  3m'] > 0\n",
    "utv6 = df['Kursutveck.']['Utveck.  6m'] > 0\n",
    "utv12 = df['Kursutveck.']['Utveck.  1 år'] > 0\n",
    "utv6vs3 = df['Kursutveck.']['Utveck.  6m'] > df['Kursutveck.']['Utveck.  3m']\n",
    "utv12vs6 = df['Kursutveck.']['Utveck.  1 år'] > df['Kursutveck.']['Utveck.  6m']\n",
    "ma50 = df['Kurs / MA']['MA 50d'] > 0\n",
    "ma200 = df['Kurs / MA']['MA 200d'] > 0\n",
    "ma200vs50 = df['Kurs / MA']['MA 200d'] > df['Kurs / MA']['MA 50d']\n",
    "\n",
    "df_filt = df[ev1000 & utv3 & utv6 & utv12 & utv6vs3 & utv12vs6 & ma50 & ma200 & ma200vs50]"
   ]
  },
  {
   "cell_type": "code",
   "execution_count": null,
   "metadata": {},
   "outputs": [],
   "source": [
    "# Add momentum ranks and sort by total rank\n",
    "\n",
    "header = pd.MultiIndex.from_product([['Momentum rank'],\n",
    "                                     ['Rank 3m','Rank 6m','Rank 1 år','Tot']])\n",
    "header2 = pd.MultiIndex.from_product([['Kursutveck.'],\n",
    "                                     ['Utveck.  3m','Utveck.  6m','Utveck.  1 år']])\n",
    "\n",
    "for i in range(3):\n",
    "    df_filt[header[i]] = df_filt[header2[i]].rank(ascending=False,method='first').astype(int)\n",
    "df_filt[header[3]] = (df_filt[header[0]] + df_filt[header[1]] + df_filt[header[2]]).rank(ascending=True,method='first').astype(int)\n",
    "df_filt.sort_values(by=[header[3]],inplace=True)"
   ]
  },
  {
   "cell_type": "code",
   "execution_count": null,
   "metadata": {},
   "outputs": [],
   "source": [
    "# Display amount of stocks to buy for each company\n",
    "\n",
    "money_per_stock = MONEY_TO_USE / NO_COMPS_TO_BUY\n",
    "df_filt['Antal aktier'] = round(money_per_stock / df_filt['Aktiekurs']['Senaste']).astype(int)\n",
    "df_filt.head(NO_COMPS_TO_BUY)"
   ]
  },
  {
   "cell_type": "code",
   "execution_count": null,
   "metadata": {},
   "outputs": [],
   "source": [
    "# Display number of companies from each list\n",
    "\n",
    "stock_lists = ['Large Cap', 'Mid Cap', 'Small Cap', 'First North']\n",
    "stock_lists_dict = {}\n",
    "\n",
    "for stock_list in stock_lists:\n",
    "    stock_lists_dict[stock_list] = sum(df_filt.head(NO_COMPS_TO_BUY)['Info']['Lista'] == stock_list)\n",
    "\n",
    "for stock_list,num in stock_lists_dict.items():\n",
    "    print(f'{stock_list:11} {num}')"
   ]
  }
 ],
 "metadata": {
  "kernelspec": {
   "display_name": "Python 3",
   "language": "python",
   "name": "python3"
  },
  "language_info": {
   "codemirror_mode": {
    "name": "ipython",
    "version": 3
   },
   "file_extension": ".py",
   "mimetype": "text/x-python",
   "name": "python",
   "nbconvert_exporter": "python",
   "pygments_lexer": "ipython3",
   "version": "3.8.5"
  }
 },
 "nbformat": 4,
 "nbformat_minor": 4
}
